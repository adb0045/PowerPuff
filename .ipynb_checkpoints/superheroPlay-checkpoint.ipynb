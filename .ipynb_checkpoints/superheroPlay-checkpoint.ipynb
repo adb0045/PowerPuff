{
 "cells": [
  {
   "cell_type": "code",
   "execution_count": 1,
   "metadata": {},
   "outputs": [],
   "source": [
    "'''\n",
    "Mutual information and SVC section\n",
    "'''\n",
    "import numpy as np\n",
    "import pandas as pd\n",
    "import os\n",
    "from sklearn.model_selection import train_test_split\n",
    "from sklearn.feature_selection import mutual_info_classif\n",
    "from sklearn import metrics\n",
    "from sklearn.metrics import confusion_matrix\n",
    "from sklearn.svm import SVC\n",
    "#import seaborn as sns\n",
    "import matplotlib.pyplot as plt\n"
   ]
  },
  {
   "cell_type": "code",
   "execution_count": 2,
   "metadata": {},
   "outputs": [],
   "source": [
    "# User defined methods\n",
    "#returns the dataset that has been reduced by finding the mutual information and choosing the features \n",
    "#that are greater than the given threshold\n",
    "def getMutualInfo(data, target, threshold):\n",
    "    #Mutual information (MI) [1] between two random variables is a non-negative value, \n",
    "    #which measures the dependency between the variables. It is equal to zero if and only if \n",
    "    #two random variables are independent, and higher values mean higher dependency.\n",
    "    mi = mutual_info_classif(data, target, random_state = 10)\n",
    "    highVals = {}\n",
    "    keys = []\n",
    "    for index,val in enumerate(mi):\n",
    "        if val > threshold:\n",
    "            highVals[index] = val\n",
    "            keys.append(index)\n",
    "    #print(highVals)\n",
    "    dataMI = data.iloc[:,keys]\n",
    "    return dataMI\n",
    "\n",
    "\n",
    "def getTestTrainSet(data, target):\n",
    "    X_train, X_test, y_train, y_test = [0,0,0,0,0],[0,0,0,0,0],[0,0,0,0,0],[0,0,0,0,0]\n",
    "\n",
    "    # get all the training and testing data\n",
    "    # setting the random_state so that I can get consistent results while testing \n",
    "    j = 0.1 #training set percentage\n",
    "    for i in range(5):\n",
    "        X_train[i], X_test[i], y_train[i], y_test[i] = train_test_split(data,target,train_size=j, random_state=100)\n",
    "        j += 0.1\n",
    "    \n",
    "    return X_train, X_test, y_train, y_test\n",
    "\n",
    "# input parameters are each an array of 5 datasets corresponding to their namesake\n",
    "# returns the set of corresponding predictions\n",
    "def getSetOfPreds(Xtrain, Xtest,ytrain, ytest):\n",
    "    svc_score = []\n",
    "\n",
    "    for i in range(5):\n",
    "        clf = SVC(kernel='linear', gamma='auto')\n",
    "        clf.fit(Xtrain[i], ytrain[i])\n",
    "        svc_y_pred = clf.predict(Xtest[i])\n",
    "        svc_score.append((clf.score(Xtrain[i], ytrain[i]))*100)\n",
    "        #print(confusion_matrix(ytest[i], svc_y_pred))\n",
    "    return svc_score"
   ]
  },
  {
   "cell_type": "code",
   "execution_count": 3,
   "metadata": {},
   "outputs": [],
   "source": [
    "# read in the datafile\n",
    "df1=pd.read_csv('heroes_information.csv')\n",
    "df2=pd.read_csv('super_hero_powers.csv')\n",
    "\n",
    "#df1.info()\n",
    "#df1.head()"
   ]
  },
  {
   "cell_type": "code",
   "execution_count": 4,
   "metadata": {},
   "outputs": [
    {
     "name": "stdout",
     "output_type": "stream",
     "text": [
      "Number of dimensions: 2\n",
      "Shape of dataset1: (734, 11)\n",
      "Number duplicate names 19\n"
     ]
    }
   ],
   "source": [
    "print ('Number of dimensions:',df1.ndim)\n",
    "print ('Shape of dataset1:',df1.shape)\n",
    "df1.isnull().sum()\n",
    "#find number of duplicate names\n",
    "print('Number duplicate names',df1['name'].duplicated().sum())"
   ]
  },
  {
   "cell_type": "code",
   "execution_count": 5,
   "metadata": {},
   "outputs": [
    {
     "name": "stdout",
     "output_type": "stream",
     "text": [
      "<class 'pandas.core.frame.DataFrame'>\n",
      "RangeIndex: 667 entries, 0 to 666\n",
      "Columns: 168 entries, hero_names to Omniscient\n",
      "dtypes: bool(167), object(1)\n",
      "memory usage: 114.1+ KB\n",
      "\n",
      " Number of dimensions: 2\n",
      "Shape of dataset1: (667, 168)\n",
      "Number duplicate names 0\n"
     ]
    }
   ],
   "source": [
    "df2.info()\n",
    "print ('\\n Number of dimensions:',df2.ndim)\n",
    "print ('Shape of dataset1:',df2.shape)\n",
    "df2.isnull().sum()\n",
    "print('Number duplicate names',df2['hero_names'].duplicated().sum())"
   ]
  },
  {
   "cell_type": "code",
   "execution_count": 6,
   "metadata": {},
   "outputs": [],
   "source": [
    "#df2.head()"
   ]
  },
  {
   "cell_type": "code",
   "execution_count": 7,
   "metadata": {},
   "outputs": [
    {
     "data": {
      "text/plain": [
       "good       496\n",
       "bad        207\n",
       "neutral     24\n",
       "-            7\n",
       "Name: Alignment, dtype: int64"
      ]
     },
     "execution_count": 7,
     "metadata": {},
     "output_type": "execute_result"
    }
   ],
   "source": [
    "#counts for hero alignment, '-' denotes unknown\n",
    "df1['Alignment'].value_counts()"
   ]
  },
  {
   "cell_type": "code",
   "execution_count": 8,
   "metadata": {},
   "outputs": [],
   "source": [
    "#rename column in df2 for merge\n",
    "df2.rename(columns={'hero_names':'name'},inplace=True)\n",
    "#df2.head()"
   ]
  },
  {
   "cell_type": "code",
   "execution_count": 9,
   "metadata": {},
   "outputs": [],
   "source": [
    "#combine datasets with name as index\n",
    "df_new=df1.set_index('name').join(df2.set_index('name'))\n",
    "df_new.to_csv('df_new.csv')\n",
    "#print(df_new)"
   ]
  },
  {
   "cell_type": "code",
   "execution_count": 10,
   "metadata": {
    "scrolled": true
   },
   "outputs": [],
   "source": [
    "#df_new.isnull().sum()\n",
    "#df_new.head()"
   ]
  },
  {
   "cell_type": "code",
   "execution_count": 11,
   "metadata": {},
   "outputs": [],
   "source": [
    "#replace text for alignment with number\n",
    "#1 if x==\"good\" else 0 if x==\"neutral\" or \"Unknown\" else -1 if x==\"bad\" else x\n",
    "f=lambda x:1 if x==True or x=='good' else 0 if x==False or x=='neutral' or x=='-'else -1 if x==\"bad\" else x\n",
    "\n",
    "adjusted=df_new.applymap(f)"
   ]
  },
  {
   "cell_type": "code",
   "execution_count": 12,
   "metadata": {},
   "outputs": [],
   "source": [
    "a=adjusted.drop(columns=['Gender','Unnamed: 0','Eye color','Hair color','Race','Publisher','Height','Skin color','Weight'])"
   ]
  },
  {
   "cell_type": "code",
   "execution_count": 13,
   "metadata": {},
   "outputs": [
    {
     "data": {
      "text/plain": [
       "(734, 168)"
      ]
     },
     "execution_count": 13,
     "metadata": {},
     "output_type": "execute_result"
    }
   ],
   "source": [
    "a.shape\n"
   ]
  },
  {
   "cell_type": "code",
   "execution_count": 14,
   "metadata": {
    "scrolled": true
   },
   "outputs": [
    {
     "name": "stdout",
     "output_type": "stream",
     "text": [
      "(660, 167)\n",
      "(660, 12)\n",
      "(660, 45)\n",
      "(660, 83)\n"
     ]
    }
   ],
   "source": [
    "# exclude samples with missing feature information\n",
    "a=a.dropna()\n",
    "\n",
    "# set y equal to the alignment\n",
    "y=a.iloc[:,0]\n",
    "\n",
    "# set XOrig to all features except the alignment\n",
    "XOrig=a.iloc[:,1:]\n",
    "print(XOrig.shape)\n",
    "\n",
    "# set up the other datasets using mutual information as the feature selection mechanism\n",
    "Xsmall = getMutualInfo(XOrig, y, 0.03)\n",
    "print(Xsmall.shape)\n",
    "Xmed = getMutualInfo(XOrig, y, 0.01)\n",
    "print(Xmed.shape)\n",
    "Xlarge = getMutualInfo(XOrig, y, 0.001)\n",
    "print(Xlarge.shape)"
   ]
  },
  {
   "cell_type": "code",
   "execution_count": 15,
   "metadata": {},
   "outputs": [],
   "source": [
    "#get the test train set for every dataset\n",
    "X_train, X_test, y_train, y_test = getTestTrainSet(XOrig, y)\n",
    "Xs_train, Xs_test, ys_train, ys_test = getTestTrainSet(Xsmall, y)\n",
    "Xm_train, Xm_test, ym_train, ym_test = getTestTrainSet(Xmed, y)\n",
    "Xl_train, Xl_test, yl_train, yl_test = getTestTrainSet(Xlarge, y)"
   ]
  },
  {
   "cell_type": "code",
   "execution_count": 16,
   "metadata": {},
   "outputs": [],
   "source": [
    "# now do svc on whole data set before and after and get the accuracy results\n",
    "X_scores = getSetOfPreds(X_train, X_test, y_train, y_test)\n",
    "Xs_scores = getSetOfPreds(Xs_train, Xs_test, ys_train, ys_test)\n",
    "Xm_scores = getSetOfPreds(Xm_train, Xm_test, ym_train, ym_test)\n",
    "Xl_scores = getSetOfPreds(Xl_train, Xl_test, yl_train, yl_test)\n"
   ]
  },
  {
   "cell_type": "code",
   "execution_count": 17,
   "metadata": {},
   "outputs": [
    {
     "name": "stdout",
     "output_type": "stream",
     "text": [
      "[60.60606060606061, 62.121212121212125, 62.121212121212125, 64.77272727272727, 65.45454545454545]\n",
      "\n",
      "[75.75757575757575, 68.93939393939394, 70.70707070707071, 69.6969696969697, 69.6969696969697]\n",
      "\n",
      "[86.36363636363636, 74.24242424242425, 73.23232323232324, 72.72727272727273, 75.15151515151514]\n",
      "\n",
      "[96.96969696969697, 87.87878787878788, 82.82828282828282, 84.84848484848484, 81.51515151515152]\n"
     ]
    }
   ],
   "source": [
    "print(Xs_scores)\n",
    "print()\n",
    "\n",
    "print(Xm_scores)\n",
    "print()\n",
    "\n",
    "print(Xl_scores)\n",
    "print()\n",
    "print(X_scores)\n"
   ]
  },
  {
   "cell_type": "code",
   "execution_count": 18,
   "metadata": {},
   "outputs": [
    {
     "data": {
      "image/png": "[encoded data removed]",
      "text/plain": [
       "<Figure size 720x504 with 1 Axes>"
      ]
     },
     "metadata": {
      "needs_background": "light"
     },
     "output_type": "display_data"
    }
   ],
   "source": [
    "#plot classification accuracy vs training size (training size is x-axis and accuracy is y axis)\n",
    "\n",
    "# x-axis values in %\n",
    "train_split = [10,20,30,40,50]\n",
    "\n",
    "plt.figure(figsize=(10,7))\n",
    "plt.plot(train_split, X_scores, 'ro-', label = 'SVC - Full set')\n",
    "plt.plot(train_split, Xl_scores, 'yo-', label = 'SVC - large set')\n",
    "plt.plot(train_split, Xm_scores, 'go-', label = 'SVC - medium set')\n",
    "plt.plot(train_split, Xs_scores, 'bo-', label = 'SVC - small set')\n",
    "\n",
    "\n",
    "plt.ylabel('Accuracy %')\n",
    "plt.xlabel('Training Set Size (%)')\n",
    "plt.legend()\n",
    "plt.show()"
   ]
  }
 ],
 "metadata": {
  "kernelspec": {
   "display_name": "Python 3",
   "language": "python",
   "name": "python3"
  },
  "language_info": {
   "codemirror_mode": {
    "name": "ipython",
    "version": 3
   },
   "file_extension": ".py",
   "mimetype": "text/x-python",
   "name": "python",
   "nbconvert_exporter": "python",
   "pygments_lexer": "ipython3",
   "version": "3.7.3"
  }
 },
 "nbformat": 4,
 "nbformat_minor": 2
}
